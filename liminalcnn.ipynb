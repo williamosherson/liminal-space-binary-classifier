{
 "cells": [
  {
   "cell_type": "code",
   "execution_count": 114,
   "metadata": {},
   "outputs": [],
   "source": [
    "import torch \n",
    "import torch.nn as nn\n",
    "import matplotlib.pyplot as plt \n",
    "import numpy as np\n",
    "import torchvision\n",
    "from torch.utils.data import Dataset, random_split, DataLoader\n",
    "from torchvision import datasets, models, transforms \n",
    "from torch.optim import lr_scheduler\n",
    "import time \n",
    "import os \n",
    "import copy \n",
    "import torch.optim as optim \n",
    "import torch.utils\n",
    "import sys\n",
    "import PIL\n",
    "from torch.utils.tensorboard import SummaryWriter"
   ]
  },
  {
   "cell_type": "code",
   "execution_count": 116,
   "metadata": {},
   "outputs": [],
   "source": [
    "device = torch.device('cuda' if torch.cuda.is_available() else 'cpu')"
   ]
  },
  {
   "cell_type": "code",
   "execution_count": 117,
   "metadata": {},
   "outputs": [],
   "source": [
    "mean = np.array([0.485,0.456,0.406])\n",
    "std = np.array([0.229,0.224,0.225])"
   ]
  },
  {
   "cell_type": "code",
   "execution_count": 118,
   "metadata": {},
   "outputs": [],
   "source": [
    "data_transforms = {\n",
    "    'train': transforms.Compose([\n",
    "        transforms.RandomResizedCrop(224),\n",
    "        transforms.RandomHorizontalFlip(),\n",
    "        transforms.ToTensor(),\n",
    "        transforms.Normalize(mean,std)\n",
    "    ]),\n",
    "    'val': transforms.Compose([\n",
    "        transforms.Resize(256),\n",
    "        transforms.CenterCrop(224),\n",
    "        transforms.ToTensor(),\n",
    "        transforms.Normalize(mean,std)\n",
    "    ])\n",
    "}"
   ]
  },
  {
   "cell_type": "code",
   "execution_count": 119,
   "metadata": {},
   "outputs": [],
   "source": [
    "data_dir = 'C:/Users/user/Asztali gép/liminal space dataset'\n",
    "sets = ['train','val']"
   ]
  },
  {
   "cell_type": "code",
   "execution_count": 131,
   "metadata": {},
   "outputs": [],
   "source": [
    "class LiminalSpacesDataset(Dataset):\n",
    "    def __init__(self,root_dir,transform=data_transforms['train']):\n",
    "        self.root_dir = root_dir\n",
    "        self.transform = transform\n",
    "        self.files = os.listdir(root_dir)\n",
    "    def __len__(self):\n",
    "        return len(self.files)\n",
    "\n",
    "    def __getitem__(self,index):\n",
    "        image_path = os.path.join(self.root_dir,self.files[index])\n",
    "        image = Image.open(image_path).convert(\"RGB\")\n",
    "        y_label = torch.tensor(int(self.files[index].split(' ')[0]))\n",
    "        image = self.transform(image)\n",
    "        \n",
    "        return (image,y_label)"
   ]
  },
  {
   "cell_type": "code",
   "execution_count": 182,
   "metadata": {},
   "outputs": [],
   "source": [
    "#hyper parameters\n",
    "batchsize=32\n",
    "numepochs = 50\n",
    "numclasses = 10\n",
    "learningRate = 1e-3"
   ]
  },
  {
   "cell_type": "code",
   "execution_count": 155,
   "metadata": {},
   "outputs": [],
   "source": [
    "dataset = LiminalSpacesDataset(root_dir='preprocessed_data')\n",
    "train_size = int(0.9*len(dataset))\n",
    "test_size = len(dataset) - train_size\n",
    "train_dataset, test_dataset = random_split(dataset, [train_size, test_size])\n",
    "\n",
    "train_dataset.transform = data_transforms['train']\n",
    "test_dataset.transform = data_transforms['val']\n",
    "train_loader = DataLoader(train_dataset,batch_size=batchsize,shuffle=True, num_workers=0)\n",
    "test_loader = DataLoader(test_dataset,batch_size=batchsize,shuffle=False, num_workers=0)\n"
   ]
  },
  {
   "cell_type": "code",
   "execution_count": 175,
   "metadata": {},
   "outputs": [
    {
     "name": "stderr",
     "output_type": "stream",
     "text": [
      "C:\\Users\\user\\AppData\\Local\\Packages\\PythonSoftwareFoundation.Python.3.11_qbz5n2kfra8p0\\LocalCache\\local-packages\\Python311\\site-packages\\torchvision\\models\\_utils.py:208: UserWarning: The parameter 'pretrained' is deprecated since 0.13 and may be removed in the future, please use 'weights' instead.\n",
      "  warnings.warn(\n",
      "C:\\Users\\user\\AppData\\Local\\Packages\\PythonSoftwareFoundation.Python.3.11_qbz5n2kfra8p0\\LocalCache\\local-packages\\Python311\\site-packages\\torchvision\\models\\_utils.py:223: UserWarning: Arguments other than a weight enum or `None` for 'weights' are deprecated since 0.13 and may be removed in the future. The current behavior is equivalent to passing `weights=ResNet18_Weights.IMAGENET1K_V1`. You can also use `weights=ResNet18_Weights.DEFAULT` to get the most up-to-date weights.\n",
      "  warnings.warn(msg)\n"
     ]
    }
   ],
   "source": [
    "model = torchvision.models.resnet18(pretrained=True)\n",
    "for param in model.parameters():\n",
    "    param.requires_grad = False\n",
    "\n",
    "numfeatures = model.fc.in_features\n",
    "model.fc = nn.Linear(numfeatures, 1)\n",
    "\n",
    "model = model.to(device)\n",
    "\n",
    "criterion = nn.MSELoss()\n",
    "\n",
    "optimizer = optim.Adam(model.fc.parameters(), lr=0.001)\n",
    "\n",
    "# Decay LR by a factor of 0.1 every 7 epochs\n",
    "learningrateschedular = lr_scheduler.StepLR(optimizer, step_size=7, gamma=0.1)"
   ]
  },
  {
   "cell_type": "code",
   "execution_count": 183,
   "metadata": {},
   "outputs": [
    {
     "name": "stdout",
     "output_type": "stream",
     "text": [
      "epoch:  0 loss:  5.560339450836182\n",
      "epoch:  0 loss:  2.864384889602661\n",
      "4.864541530609131\n",
      "epoch:  1 loss:  5.150148391723633\n",
      "epoch:  1 loss:  4.113582134246826\n",
      "4.893955707550049\n",
      "epoch:  2 loss:  5.408448219299316\n",
      "epoch:  2 loss:  5.544589042663574\n",
      "4.863783359527588\n",
      "epoch:  3 loss:  4.9845781326293945\n",
      "epoch:  3 loss:  3.3263726234436035\n",
      "4.88345193862915\n",
      "epoch:  4 loss:  4.606037139892578\n",
      "epoch:  4 loss:  4.674435615539551\n",
      "4.873384952545166\n",
      "epoch:  5 loss:  4.960361480712891\n",
      "epoch:  5 loss:  5.111510753631592\n",
      "4.8152546882629395\n",
      "epoch:  6 loss:  3.0549066066741943\n",
      "epoch:  6 loss:  6.544426441192627\n",
      "4.835152626037598\n",
      "epoch:  7 loss:  4.928103446960449\n",
      "epoch:  7 loss:  5.202144622802734\n",
      "4.847618579864502\n",
      "epoch:  8 loss:  4.2734375\n",
      "epoch:  8 loss:  3.438416004180908\n",
      "4.869822978973389\n",
      "epoch:  9 loss:  5.466249465942383\n",
      "epoch:  9 loss:  4.213550567626953\n",
      "4.770711421966553\n",
      "epoch:  10 loss:  4.1941986083984375\n",
      "epoch:  10 loss:  5.9270124435424805\n",
      "4.909775257110596\n",
      "epoch:  11 loss:  3.184648036956787\n",
      "epoch:  11 loss:  4.374066352844238\n",
      "4.820900917053223\n",
      "epoch:  12 loss:  5.474101543426514\n",
      "epoch:  12 loss:  7.29148530960083\n",
      "4.886575698852539\n",
      "epoch:  13 loss:  2.1220078468322754\n",
      "epoch:  13 loss:  5.587736129760742\n",
      "4.768412113189697\n",
      "epoch:  14 loss:  2.388235092163086\n",
      "epoch:  14 loss:  5.236207008361816\n",
      "4.799753189086914\n",
      "epoch:  15 loss:  4.270572185516357\n",
      "epoch:  15 loss:  3.4362874031066895\n",
      "4.7706756591796875\n",
      "epoch:  16 loss:  6.285728931427002\n",
      "epoch:  16 loss:  4.346345901489258\n",
      "4.8330512046813965\n",
      "epoch:  17 loss:  4.385376930236816\n",
      "epoch:  17 loss:  5.9629387855529785\n",
      "4.795766830444336\n",
      "epoch:  18 loss:  6.861943244934082\n",
      "epoch:  18 loss:  4.008662223815918\n",
      "4.758432865142822\n",
      "epoch:  19 loss:  5.51353120803833\n",
      "epoch:  19 loss:  5.18593168258667\n",
      "4.8411865234375\n",
      "epoch:  20 loss:  4.665767669677734\n",
      "epoch:  20 loss:  7.332424163818359\n",
      "4.879369735717773\n",
      "epoch:  21 loss:  8.558516502380371\n",
      "epoch:  21 loss:  5.105966567993164\n",
      "4.917342185974121\n",
      "epoch:  22 loss:  4.299819469451904\n",
      "epoch:  22 loss:  5.809779644012451\n",
      "4.818758487701416\n",
      "epoch:  23 loss:  4.822360038757324\n",
      "epoch:  23 loss:  5.0252790451049805\n",
      "4.844973564147949\n",
      "epoch:  24 loss:  3.1955602169036865\n",
      "epoch:  24 loss:  4.881490707397461\n",
      "4.799206733703613\n",
      "epoch:  25 loss:  4.5357489585876465\n",
      "epoch:  25 loss:  5.078104019165039\n",
      "4.777413368225098\n",
      "epoch:  26 loss:  5.801493167877197\n",
      "epoch:  26 loss:  3.7098467350006104\n",
      "4.730517864227295\n",
      "epoch:  27 loss:  3.3691110610961914\n",
      "epoch:  27 loss:  5.48818302154541\n",
      "4.8369574546813965\n",
      "epoch:  28 loss:  2.4448165893554688\n",
      "epoch:  28 loss:  3.250440835952759\n",
      "4.852691650390625\n",
      "epoch:  29 loss:  4.422312259674072\n",
      "epoch:  29 loss:  3.9893686771392822\n",
      "4.801295757293701\n",
      "epoch:  30 loss:  2.9778995513916016\n",
      "epoch:  30 loss:  3.3912205696105957\n",
      "4.785550117492676\n",
      "epoch:  31 loss:  4.407223701477051\n",
      "epoch:  31 loss:  6.565630912780762\n",
      "4.736186504364014\n",
      "epoch:  32 loss:  3.660245895385742\n",
      "epoch:  32 loss:  5.42938232421875\n",
      "4.822190761566162\n",
      "epoch:  33 loss:  5.252394676208496\n",
      "epoch:  33 loss:  5.221783638000488\n",
      "4.7466959953308105\n",
      "epoch:  34 loss:  4.342234134674072\n",
      "epoch:  34 loss:  4.9965596199035645\n",
      "4.750323295593262\n",
      "epoch:  35 loss:  9.019025802612305\n",
      "epoch:  35 loss:  6.428291320800781\n",
      "4.769177436828613\n",
      "epoch:  36 loss:  4.751208305358887\n",
      "epoch:  36 loss:  6.768927574157715\n",
      "4.775788307189941\n",
      "epoch:  37 loss:  6.097011089324951\n",
      "epoch:  37 loss:  5.282853603363037\n",
      "4.8076252937316895\n",
      "epoch:  38 loss:  4.20150089263916\n",
      "epoch:  38 loss:  4.27757453918457\n",
      "4.817599773406982\n",
      "epoch:  39 loss:  6.909153938293457\n",
      "epoch:  39 loss:  4.943350315093994\n",
      "4.7866034507751465\n",
      "epoch:  40 loss:  4.236150741577148\n",
      "epoch:  40 loss:  3.6854934692382812\n",
      "4.750423431396484\n",
      "epoch:  41 loss:  4.486239910125732\n",
      "epoch:  41 loss:  4.014089584350586\n",
      "4.698905944824219\n",
      "epoch:  42 loss:  7.10734224319458\n",
      "epoch:  42 loss:  4.849959373474121\n",
      "4.793824195861816\n",
      "epoch:  43 loss:  5.016670227050781\n",
      "epoch:  43 loss:  6.134964942932129\n",
      "4.77078104019165\n",
      "epoch:  44 loss:  3.3354835510253906\n",
      "epoch:  44 loss:  3.874692440032959\n",
      "4.776581287384033\n",
      "epoch:  45 loss:  4.622271537780762\n",
      "epoch:  45 loss:  3.269970417022705\n",
      "4.736643314361572\n",
      "epoch:  46 loss:  3.688991069793701\n",
      "epoch:  46 loss:  6.778083801269531\n",
      "4.795621871948242\n",
      "epoch:  47 loss:  5.584146499633789\n",
      "epoch:  47 loss:  5.3573102951049805\n",
      "4.820094108581543\n",
      "epoch:  48 loss:  5.521904945373535\n",
      "epoch:  48 loss:  6.4271345138549805\n",
      "4.842325210571289\n",
      "epoch:  49 loss:  4.458928108215332\n",
      "epoch:  49 loss:  4.294783592224121\n",
      "4.701984405517578\n"
     ]
    }
   ],
   "source": [
    "for epoch in range(numepochs):\n",
    "    running_loss = 0\n",
    "    for i,(images,scores) in enumerate(train_loader):\n",
    "        scores = torch.log(scores.to(device)+1)\n",
    "        images = images.to(device)\n",
    "        guesses = model(images).squeeze()\n",
    "        loss = criterion(guesses,scores)\n",
    "        with torch.no_grad():\n",
    "            running_loss += loss\n",
    "        optimizer.zero_grad()\n",
    "        loss.backward()\n",
    "        optimizer.step()\n",
    "        if i%100 == 0:\n",
    "            print('epoch: ',epoch, 'loss: ',loss.item())\n",
    "    print((running_loss/len(train_loader)).item())    \n",
    "    "
   ]
  },
  {
   "cell_type": "code",
   "execution_count": 184,
   "metadata": {},
   "outputs": [
    {
     "name": "stdout",
     "output_type": "stream",
     "text": [
      "5.033708572387695\n"
     ]
    }
   ],
   "source": [
    "running_loss = 0\n",
    "with torch.no_grad():\n",
    "    for i,(images,scores) in enumerate(test_loader):\n",
    "        scores = torch.log(scores.to(device)+1)\n",
    "        images = images.to(device)\n",
    "        guesses = model(images).squeeze()\n",
    "        loss = criterion(guesses,scores)\n",
    "        running_loss += loss\n",
    "    print((running_loss/len(test_loader)).item())"
   ]
  },
  {
   "cell_type": "code",
   "execution_count": 172,
   "metadata": {},
   "outputs": [
    {
     "name": "stdout",
     "output_type": "stream",
     "text": [
      "tensor([2.4000e+01, 8.0000e+00, 8.5180e+03, 2.8000e+01, 2.0000e+00, 5.8000e+01,\n",
      "        1.2740e+03, 1.2600e+02, 6.1700e+02, 7.6730e+03, 4.0800e+02, 1.7000e+01,\n",
      "        9.0000e+00, 7.2530e+03, 3.5470e+03, 9.4000e+01, 3.6500e+02, 4.9900e+02,\n",
      "        4.1540e+03, 3.0000e+00, 1.5000e+02, 6.8000e+01, 1.6000e+01, 6.3000e+01,\n",
      "        3.2000e+01, 1.5000e+01, 6.7000e+01, 4.0000e+00, 7.0000e+00, 1.1000e+01,\n",
      "        6.2000e+01, 2.7000e+01], device='cuda:0')\n"
     ]
    }
   ],
   "source": [
    "with torch.no_grad():\n",
    "    for i,(images,scores) in enumerate(test_loader):\n",
    "        images = images.to(device)\n",
    "        scores = scores.to(device)\n",
    "        guesses = model(images).squeeze()\n",
    "        print(torch.abs(torch.round(torch.exp(guesses)-1)-scores))\n",
    "        break\n",
    "        \n"
   ]
  },
  {
   "cell_type": "code",
   "execution_count": 146,
   "metadata": {},
   "outputs": [
    {
     "name": "stdout",
     "output_type": "stream",
     "text": [
      "Time per batch: 0.014122235774993896\n"
     ]
    }
   ],
   "source": [
    "import time\n",
    "\n",
    "start_time = time.time()\n",
    "for i, (inputs, labels) in enumerate(train_loader):\n",
    "    if i == 100:  # Test first 100 batches\n",
    "        break\n",
    "print(\"Time per batch:\", (time.time() - start_time) / 100)\n"
   ]
  },
  {
   "cell_type": "code",
   "execution_count": null,
   "metadata": {},
   "outputs": [],
   "source": [
    "#Time per batch: 0.47989688396453856\n",
    "#preprocessed: Time per batch: 0.014122235774993896\n"
   ]
  }
 ],
 "metadata": {
  "kernelspec": {
   "display_name": "Python 3",
   "language": "python",
   "name": "python3"
  },
  "language_info": {
   "codemirror_mode": {
    "name": "ipython",
    "version": 3
   },
   "file_extension": ".py",
   "mimetype": "text/x-python",
   "name": "python",
   "nbconvert_exporter": "python",
   "pygments_lexer": "ipython3",
   "version": "3.11.9"
  }
 },
 "nbformat": 4,
 "nbformat_minor": 2
}
